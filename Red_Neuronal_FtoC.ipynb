{
  "nbformat": 4,
  "nbformat_minor": 0,
  "metadata": {
    "colab": {
      "provenance": []
    },
    "kernelspec": {
      "name": "python3",
      "display_name": "Python 3"
    },
    "language_info": {
      "name": "python"
    }
  },
  "cells": [
    {
      "cell_type": "code",
      "source": [
        "#Imports necesarios para que todod funcione\n",
        "import pandas as pd\n",
        "import tensorflow as tf\n",
        "import numpy as np\n",
        "import matplotlib.pyplot as plt"
      ],
      "metadata": {
        "id": "FxYoTE6D1Klm"
      },
      "execution_count": 80,
      "outputs": []
    },
    {
      "cell_type": "code",
      "execution_count": 81,
      "metadata": {
        "colab": {
          "base_uri": "https://localhost:8080/"
        },
        "id": "bCQv80kFupA7",
        "outputId": "ed0f4be1-afa3-4f67-ae17-2ba4fb88341b"
      },
      "outputs": [
        {
          "output_type": "stream",
          "name": "stdout",
          "text": [
            "       C       F\n",
            "0    353   667.4\n",
            "1    527   980.6\n",
            "2    512   953.6\n",
            "3    959  1758.2\n",
            "4    812  1493.6\n",
            "..   ...     ...\n",
            "994  104   219.2\n",
            "995  277   530.6\n",
            "996  360   680.0\n",
            "997  966  1770.8\n",
            "998  569  1056.2\n",
            "\n",
            "[999 rows x 2 columns]\n"
          ]
        }
      ],
      "source": [
        "#Recolectamos los datos con los que trabajaremos\n",
        "df = pd.read_csv('https://raw.githubusercontent.com/RyoTheCat/Public_Domunets/main/CtoF.csv')\n",
        "df.columns = ['C','F']\n",
        "print(df)"
      ]
    },
    {
      "cell_type": "code",
      "source": [
        "#Separamos en nuestra variable con las entradas y la variable con las salidas\n",
        "df_X = df['C']\n",
        "df_Y = df['F']"
      ],
      "metadata": {
        "id": "KJlQLrGC4Yii"
      },
      "execution_count": 82,
      "outputs": []
    },
    {
      "cell_type": "code",
      "source": [
        "#Preparamos el modelo de red neuronal\n",
        "#Usaremos un modelo muy simple con solo una neurona de entrada y una neurona de salida\n",
        "capa = tf.keras.layers.Dense(units=1,input_shape=[1])\n",
        "modelo = tf.keras.Sequential([capa])"
      ],
      "metadata": {
        "id": "cxSPen_314Ym"
      },
      "execution_count": 83,
      "outputs": []
    },
    {
      "cell_type": "code",
      "source": [
        "#Con esto preparamos la configuración de nuestro modelo.\n",
        "#la variable delta será el valor con el cual corregirá nuestro modelo.\n",
        "#Si es muy grande, tal vez no pueda corregir de manera fina, si es muy pequeño, tal vez no alcance a corregir correctamente\n",
        "\n",
        "delta = 0.1\n",
        "modelo.compile(\n",
        "    optimizer=tf.keras.optimizers.Adam(delta),\n",
        "    loss='mean_squared_error'\n",
        ")"
      ],
      "metadata": {
        "id": "sNMKv3E83RZP"
      },
      "execution_count": 84,
      "outputs": []
    },
    {
      "cell_type": "code",
      "source": [
        "#Comenzamos el Entrenamiento del modelo\n",
        "print(\"Comenzamos entrenamiento...\")\n",
        "n_pasadas = 150\n",
        "historial = modelo.fit(df_X,df_Y,epochs=n_pasadas,verbose=False)\n",
        "print('Modelo Entrenado!')"
      ],
      "metadata": {
        "colab": {
          "base_uri": "https://localhost:8080/"
        },
        "id": "Wb9IL12A4FYN",
        "outputId": "573cd523-290f-4d25-a2af-9ba3a7b03867"
      },
      "execution_count": 85,
      "outputs": [
        {
          "output_type": "stream",
          "name": "stdout",
          "text": [
            "Comenzamos entrenamiento...\n",
            "Modelo Entrenado!\n"
          ]
        }
      ]
    },
    {
      "cell_type": "code",
      "source": [
        "#Vamos a visualizar como lo hizo el modelo\n",
        "#En la siguiente gráfica veremos graficado de cuant ofue el ajuste que hizo el modelo por cada pasada\n",
        "plt.xlabel('# Epoca')\n",
        "plt.ylabel('Magnitud de Pérdida')\n",
        "plt.plot(historial.history[\"loss\"])"
      ],
      "metadata": {
        "colab": {
          "base_uri": "https://localhost:8080/",
          "height": 299
        },
        "id": "_OnyhB655ngR",
        "outputId": "02f516fc-b290-45a1-e657-b8b2dddf3f7f"
      },
      "execution_count": 86,
      "outputs": [
        {
          "output_type": "execute_result",
          "data": {
            "text/plain": [
              "[<matplotlib.lines.Line2D at 0x7f76ffb2a580>]"
            ]
          },
          "metadata": {},
          "execution_count": 86
        },
        {
          "output_type": "display_data",
          "data": {
            "text/plain": [
              "<Figure size 432x288 with 1 Axes>"
            ],
            "image/png": "[encoded data removed]"
          },
          "metadata": {
            "needs_background": "light"
          }
        }
      ]
    },
    {
      "cell_type": "code",
      "source": [
        "#probaremos nuestro modelo con números que no están incluidos en nuestra información original\n",
        "#con el fin de saber que tan bueno es nuestro modelo para calcular el resultado\n",
        "\n",
        "df_test = [2,7,9,13,14,19,20]\n",
        "print(df_test)\n",
        "print(\"Hagamos algunas predicciones:\")\n",
        "for item in df_test:\n",
        "  print(str(item)+\"° celcius son: \"+ str(modelo.predict([item])) +\"° fahrenheit\")\n"
      ],
      "metadata": {
        "colab": {
          "base_uri": "https://localhost:8080/"
        },
        "id": "urUzmq0k7vz-",
        "outputId": "eb7113e0-2d0d-47c5-9439-81187f39e08c"
      },
      "execution_count": 87,
      "outputs": [
        {
          "output_type": "stream",
          "name": "stdout",
          "text": [
            "[2, 7, 9, 13, 14, 19, 20]\n",
            "Hagamos algunas predicciones:\n",
            "1/1 [==============================] - 0s 73ms/step\n",
            "2° celcius son: [[35.48517]]° fahrenheit\n",
            "1/1 [==============================] - 0s 45ms/step\n",
            "7° celcius son: [[44.486008]]° fahrenheit\n",
            "1/1 [==============================] - 0s 44ms/step\n",
            "9° celcius son: [[48.086346]]° fahrenheit\n",
            "1/1 [==============================] - 0s 44ms/step\n",
            "13° celcius son: [[55.287018]]° fahrenheit\n",
            "1/1 [==============================] - 0s 42ms/step\n",
            "14° celcius son: [[57.08719]]° fahrenheit\n",
            "1/1 [==============================] - 0s 38ms/step\n",
            "19° celcius son: [[66.08803]]° fahrenheit\n",
            "1/1 [==============================] - 0s 43ms/step\n",
            "20° celcius son: [[67.8882]]° fahrenheit\n"
          ]
        }
      ]
    },
    {
      "cell_type": "code",
      "source": [
        "#Vamos a ver las Variables internas del modelo\n",
        "pesos = capa.get_weights()\n",
        "print(pesos)\n",
        "print()\n",
        "#Lo que indica una fórmula así\n",
        "print(\"Fahrenheit = (Celcius * \"+ str( pesos[0] )+ \") + \" + str(pesos[1]))\n",
        "#La fórmula para convertir Celcius a Fahrenheit es: °F = (°C * 1.8) + 32\n",
        "#¿Está cerca?"
      ],
      "metadata": {
        "colab": {
          "base_uri": "https://localhost:8080/"
        },
        "id": "_oUL2Ds1-arV",
        "outputId": "66ea6f9e-81ca-4979-a459-06c67081ae03"
      },
      "execution_count": 97,
      "outputs": [
        {
          "output_type": "stream",
          "name": "stdout",
          "text": [
            "[array([[1.8001683]], dtype=float32), array([31.88483], dtype=float32)]\n",
            "\n",
            "Fahrenheit = (Celcius * [[1.8001683]]) + [31.88483]\n"
          ]
        }
      ]
    }
  ]
}